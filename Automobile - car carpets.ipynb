{
 "cells": [
  {
   "cell_type": "markdown",
   "id": "f1b721f6",
   "metadata": {},
   "source": [
    "## Анализ рынка продажи автомобильных ковриков в период 01.11.2021 - 16.02.2022"
   ]
  },
  {
   "cell_type": "markdown",
   "id": "b2a98554",
   "metadata": {},
   "source": [
    "Данный анализ проводился с целью выявления самых популярных марок автомобилей на основе продаж автомобильных ковриков конкурентов, для проверки гипотезы и возможного дальнейшего заказа пробной партии для реализации на маркетплейсе. Цель анализа - узнать объемы рынка и определить популярные модели авто."
   ]
  },
  {
   "cell_type": "markdown",
   "id": "0b64e8bd",
   "metadata": {},
   "source": [
    "Импортируем необходимые для работы библиотеки"
   ]
  },
  {
   "cell_type": "code",
   "execution_count": 1,
   "id": "72f4ae66",
   "metadata": {},
   "outputs": [],
   "source": [
    "import pandas as pd\n",
    "import os # для работы с файлами\n",
    "import requests\n",
    "from selenium import webdriver\n",
    "from webdriver_manager.chrome import ChromeDriverManager\n",
    "import time"
   ]
  },
  {
   "cell_type": "markdown",
   "id": "f2291e51",
   "metadata": {},
   "source": [
    "С сайта shopstat.ru забираем необходимую статистику. Статистику можно скачать в формате .csv, по 50 записей в одном файле.\n",
    "\n",
    "В данном проекте будем автоматически загружать необходимые файлы со статистикой. Период - 01/11/2021 - 16/02/2022\". Данные взяты с маркетплейса **ozon.ru**"
   ]
  },
  {
   "cell_type": "markdown",
   "id": "1f5f4fb7",
   "metadata": {},
   "source": [
    "Вводим функцию для загрузки файлов. Было перепробовано много решений, взятых с интернета, заработало только решение ниже, в режиме эмуляции браузера. Причина - сайт отдает файл через несколько секунд после открытия ссылки. Если просто попытаться скачать файл по ссылке - ошибка 403 Forbidden. \n",
    "\n",
    "Код неидеален, работает медленно, но зато автоматически."
   ]
  },
  {
   "cell_type": "code",
   "execution_count": 2,
   "id": "ef171724",
   "metadata": {},
   "outputs": [],
   "source": [
    "def headless_browser(url):\n",
    "    # The following lines are so the browser is headless, i.e. it doesn't open a window\n",
    "    options = webdriver.ChromeOptions()\n",
    "    options.add_argument('headless')\n",
    "    options.add_argument('window-size=600x600')\n",
    "    \n",
    "\n",
    "    wd = webdriver.Chrome('1/chromedriver.exe')\n",
    "\n",
    "    wd.get(url)  # Open the desired url in the browser\n",
    "\n",
    "    time.sleep(3)\n",
    "    wd.close()  # Close the browser"
   ]
  },
  {
   "cell_type": "markdown",
   "id": "24be4098",
   "metadata": {},
   "source": [
    "Вручную необходимо сделать следующее - сначала на сайте shopstat.ru заходим в нужную категорию, конфигурируем искомый период данных и получаем ссылку на первый csv файл. "
   ]
  },
  {
   "cell_type": "code",
   "execution_count": 3,
   "id": "0b25ef98",
   "metadata": {},
   "outputs": [],
   "source": [
    "page_cnt = 1\n",
    "url = 'https://new-api.shopstat.ru/export/product-list?marketplace=OZON&categoryId=8633&sortBy=SOLD&sortDirection=DESC&fromDate=1635714000000&toDate=1644958800000&page=' + str(page_cnt) + '&token=EcR-6fDt-KAMAx4GbMK_U'"
   ]
  },
  {
   "cell_type": "markdown",
   "id": "b7ed14d2",
   "metadata": {},
   "source": [
    "Циклом загружаем необходимое количество файлов:"
   ]
  },
  {
   "cell_type": "code",
   "execution_count": 4,
   "id": "ef4480cd",
   "metadata": {},
   "outputs": [],
   "source": [
    "for i in range(100):\n",
    "    headless_browser(url)\n",
    "    page_cnt +=1"
   ]
  },
  {
   "cell_type": "markdown",
   "id": "7cd9ff5b",
   "metadata": {},
   "source": [
    "Файлы упали в папку загрузок по умолчанию. Переместим их в текущий каталог (или пропишем путь до туда, куда они упали) и объеденим. "
   ]
  },
  {
   "cell_type": "code",
   "execution_count": 5,
   "id": "c197adc2",
   "metadata": {},
   "outputs": [],
   "source": [
    "full_df = pd.read_csv('data\\8633-1-export.csv', encoding='cp1251')"
   ]
  },
  {
   "cell_type": "code",
   "execution_count": 6,
   "id": "ac2196ed",
   "metadata": {},
   "outputs": [],
   "source": [
    "for i in range(1, 100):\n",
    "    i += 1\n",
    "    path = 'data\\8633-' + str(i) + '-export.csv'\n",
    "    temp_df = pd.read_csv(path, encoding='cp1251')\n",
    "    full_df = pd.concat([full_df, temp_df])"
   ]
  },
  {
   "cell_type": "markdown",
   "id": "2b4764ef",
   "metadata": {},
   "source": [
    "Проверим количество строк, колонок, удалим дубликаты, если есть."
   ]
  },
  {
   "cell_type": "code",
   "execution_count": 7,
   "id": "c2c24fc5",
   "metadata": {},
   "outputs": [],
   "source": [
    "full_df = full_df.drop_duplicates()"
   ]
  },
  {
   "cell_type": "code",
   "execution_count": 8,
   "id": "61685e51",
   "metadata": {},
   "outputs": [
    {
     "data": {
      "text/plain": [
       "(5000, 14)"
      ]
     },
     "execution_count": 8,
     "metadata": {},
     "output_type": "execute_result"
    }
   ],
   "source": [
    "full_df.shape"
   ]
  },
  {
   "cell_type": "markdown",
   "id": "67e1d186",
   "metadata": {},
   "source": [
    "Посмотрим содержимое, первые три строки:"
   ]
  },
  {
   "cell_type": "code",
   "execution_count": 9,
   "id": "ad823554",
   "metadata": {
    "scrolled": false
   },
   "outputs": [
    {
     "data": {
      "text/html": [
       "<div>\n",
       "<style scoped>\n",
       "    .dataframe tbody tr th:only-of-type {\n",
       "        vertical-align: middle;\n",
       "    }\n",
       "\n",
       "    .dataframe tbody tr th {\n",
       "        vertical-align: top;\n",
       "    }\n",
       "\n",
       "    .dataframe thead th {\n",
       "        text-align: right;\n",
       "    }\n",
       "</style>\n",
       "<table border=\"1\" class=\"dataframe\">\n",
       "  <thead>\n",
       "    <tr style=\"text-align: right;\">\n",
       "      <th></th>\n",
       "      <th>SKU</th>\n",
       "      <th>Название</th>\n",
       "      <th>Категория</th>\n",
       "      <th>Бренд</th>\n",
       "      <th>Остаток</th>\n",
       "      <th>Отзывов</th>\n",
       "      <th>Минимальная цена</th>\n",
       "      <th>Максимальная цена</th>\n",
       "      <th>Средняя цена</th>\n",
       "      <th>Продаж</th>\n",
       "      <th>Выручка</th>\n",
       "      <th>Ссылка на товар</th>\n",
       "      <th>Фото</th>\n",
       "      <th>Рейтинг</th>\n",
       "    </tr>\n",
       "  </thead>\n",
       "  <tbody>\n",
       "    <tr>\n",
       "      <th>0</th>\n",
       "      <td>198852991</td>\n",
       "      <td>Автовизитка на торпеду автомобиля, визитная ка...</td>\n",
       "      <td>Обустройство салона</td>\n",
       "      <td>NicePrice</td>\n",
       "      <td>3492</td>\n",
       "      <td>3827</td>\n",
       "      <td>816</td>\n",
       "      <td>816</td>\n",
       "      <td>196</td>\n",
       "      <td>9580</td>\n",
       "      <td>1851716</td>\n",
       "      <td>https://www.ozon.ru/context/detail/id/198852991/</td>\n",
       "      <td>https://cdn1.ozone.ru/s3/multimedia-f/62233123...</td>\n",
       "      <td>4.80</td>\n",
       "    </tr>\n",
       "    <tr>\n",
       "      <th>1</th>\n",
       "      <td>311489537</td>\n",
       "      <td>Оплетка, чехол кпп, чехол ручника, мультиразме...</td>\n",
       "      <td>Обустройство салона</td>\n",
       "      <td>-</td>\n",
       "      <td>64</td>\n",
       "      <td>1</td>\n",
       "      <td>740</td>\n",
       "      <td>740</td>\n",
       "      <td>740</td>\n",
       "      <td>1954</td>\n",
       "      <td>1445960</td>\n",
       "      <td>https://www.ozon.ru/context/detail/id/311489537/</td>\n",
       "      <td>https://cdn1.ozone.ru/s3/multimedia-7/60925947...</td>\n",
       "      <td>4.00</td>\n",
       "    </tr>\n",
       "    <tr>\n",
       "      <th>2</th>\n",
       "      <td>164286489</td>\n",
       "      <td>Коврики в салон Element, для Kia Rio, 06/2017-...</td>\n",
       "      <td>Обустройство салона</td>\n",
       "      <td>Element</td>\n",
       "      <td>646</td>\n",
       "      <td>11</td>\n",
       "      <td>1819</td>\n",
       "      <td>1819</td>\n",
       "      <td>1642</td>\n",
       "      <td>1566</td>\n",
       "      <td>2539862</td>\n",
       "      <td>https://www.ozon.ru/context/detail/id/164286489/</td>\n",
       "      <td>https://cdn1.ozone.ru/multimedia/1033679384.jpg</td>\n",
       "      <td>4.52</td>\n",
       "    </tr>\n",
       "  </tbody>\n",
       "</table>\n",
       "</div>"
      ],
      "text/plain": [
       "         SKU                                           Название  \\\n",
       "0  198852991  Автовизитка на торпеду автомобиля, визитная ка...   \n",
       "1  311489537  Оплетка, чехол кпп, чехол ручника, мультиразме...   \n",
       "2  164286489  Коврики в салон Element, для Kia Rio, 06/2017-...   \n",
       "\n",
       "             Категория      Бренд  Остаток  Отзывов  Минимальная цена  \\\n",
       "0  Обустройство салона  NicePrice     3492     3827               816   \n",
       "1  Обустройство салона          -       64        1               740   \n",
       "2  Обустройство салона    Element      646       11              1819   \n",
       "\n",
       "   Максимальная цена  Средняя цена  Продаж  Выручка  \\\n",
       "0                816           196    9580  1851716   \n",
       "1                740           740    1954  1445960   \n",
       "2               1819          1642    1566  2539862   \n",
       "\n",
       "                                    Ссылка на товар  \\\n",
       "0  https://www.ozon.ru/context/detail/id/198852991/   \n",
       "1  https://www.ozon.ru/context/detail/id/311489537/   \n",
       "2  https://www.ozon.ru/context/detail/id/164286489/   \n",
       "\n",
       "                                                Фото  Рейтинг  \n",
       "0  https://cdn1.ozone.ru/s3/multimedia-f/62233123...     4.80  \n",
       "1  https://cdn1.ozone.ru/s3/multimedia-7/60925947...     4.00  \n",
       "2    https://cdn1.ozone.ru/multimedia/1033679384.jpg     4.52  "
      ]
     },
     "execution_count": 9,
     "metadata": {},
     "output_type": "execute_result"
    }
   ],
   "source": [
    "full_df.head(3)"
   ]
  },
  {
   "cell_type": "markdown",
   "id": "8cba1e60",
   "metadata": {},
   "source": [
    "Очистим данные - уберем ненужные колонки, такие как - SKU, остаток, мин.цену, макс.цену, ссылки, фото и рейтинг"
   ]
  },
  {
   "cell_type": "code",
   "execution_count": 10,
   "id": "e2a1e559",
   "metadata": {},
   "outputs": [
    {
     "data": {
      "text/html": [
       "<div>\n",
       "<style scoped>\n",
       "    .dataframe tbody tr th:only-of-type {\n",
       "        vertical-align: middle;\n",
       "    }\n",
       "\n",
       "    .dataframe tbody tr th {\n",
       "        vertical-align: top;\n",
       "    }\n",
       "\n",
       "    .dataframe thead th {\n",
       "        text-align: right;\n",
       "    }\n",
       "</style>\n",
       "<table border=\"1\" class=\"dataframe\">\n",
       "  <thead>\n",
       "    <tr style=\"text-align: right;\">\n",
       "      <th></th>\n",
       "      <th>Название</th>\n",
       "      <th>Бренд</th>\n",
       "      <th>Отзывов</th>\n",
       "      <th>Средняя цена</th>\n",
       "      <th>Продаж</th>\n",
       "      <th>Выручка</th>\n",
       "    </tr>\n",
       "  </thead>\n",
       "  <tbody>\n",
       "    <tr>\n",
       "      <th>0</th>\n",
       "      <td>Автовизитка на торпеду автомобиля, визитная ка...</td>\n",
       "      <td>NicePrice</td>\n",
       "      <td>3827</td>\n",
       "      <td>196</td>\n",
       "      <td>9580</td>\n",
       "      <td>1851716</td>\n",
       "    </tr>\n",
       "    <tr>\n",
       "      <th>1</th>\n",
       "      <td>Оплетка, чехол кпп, чехол ручника, мультиразме...</td>\n",
       "      <td>-</td>\n",
       "      <td>1</td>\n",
       "      <td>740</td>\n",
       "      <td>1954</td>\n",
       "      <td>1445960</td>\n",
       "    </tr>\n",
       "    <tr>\n",
       "      <th>2</th>\n",
       "      <td>Коврики в салон Element, для Kia Rio, 06/2017-...</td>\n",
       "      <td>Element</td>\n",
       "      <td>11</td>\n",
       "      <td>1642</td>\n",
       "      <td>1566</td>\n",
       "      <td>2539862</td>\n",
       "    </tr>\n",
       "  </tbody>\n",
       "</table>\n",
       "</div>"
      ],
      "text/plain": [
       "                                            Название      Бренд  Отзывов  \\\n",
       "0  Автовизитка на торпеду автомобиля, визитная ка...  NicePrice     3827   \n",
       "1  Оплетка, чехол кпп, чехол ручника, мультиразме...          -        1   \n",
       "2  Коврики в салон Element, для Kia Rio, 06/2017-...    Element       11   \n",
       "\n",
       "   Средняя цена  Продаж  Выручка  \n",
       "0           196    9580  1851716  \n",
       "1           740    1954  1445960  \n",
       "2          1642    1566  2539862  "
      ]
     },
     "execution_count": 10,
     "metadata": {},
     "output_type": "execute_result"
    }
   ],
   "source": [
    "full_df.drop(['SKU', 'Категория', 'Остаток', 'Минимальная цена', 'Максимальная цена', 'Ссылка на товар', 'Фото', 'Рейтинг'], axis=1, inplace=True) \n",
    "full_df.head(3)"
   ]
  },
  {
   "cell_type": "markdown",
   "id": "562e42e7",
   "metadata": {},
   "source": [
    "Переименуем оставшиеся колонки для удобства работы:"
   ]
  },
  {
   "cell_type": "code",
   "execution_count": 11,
   "id": "649b6801",
   "metadata": {},
   "outputs": [],
   "source": [
    "full_df = full_df.rename(columns = {'Средняя цена': 'mean_price', 'Продаж': 'total_sales', \n",
    "                                    'Выручка': 'total_money',  'Отзывов': 'comments',\n",
    "                                   'Название': 'name',  'Бренд': 'brand'},)"
   ]
  },
  {
   "cell_type": "markdown",
   "id": "b32f0d01",
   "metadata": {},
   "source": [
    "Выведем в эксель для отправки топ 100 вещей, в категории \"обустройство салона\". Вдруг нас заинтересуют продажи чего-либо еще и мы захотим заняться данным товаром на маркетплейсе. "
   ]
  },
  {
   "cell_type": "code",
   "execution_count": 12,
   "id": "2d8df9c8",
   "metadata": {},
   "outputs": [],
   "source": [
    "full_df.sort_values('total_sales', ascending = False).head(100).reset_index() \\\n",
    "    .drop(['index'], axis=1).to_excel(\"top_100_items.xlsx\")"
   ]
  },
  {
   "cell_type": "markdown",
   "id": "f6f16d57",
   "metadata": {},
   "source": [
    "Фильтруем ДФ по содержимому колонки name. "
   ]
  },
  {
   "cell_type": "code",
   "execution_count": 13,
   "id": "2b4951fb",
   "metadata": {},
   "outputs": [
    {
     "data": {
      "text/html": [
       "<div>\n",
       "<style scoped>\n",
       "    .dataframe tbody tr th:only-of-type {\n",
       "        vertical-align: middle;\n",
       "    }\n",
       "\n",
       "    .dataframe tbody tr th {\n",
       "        vertical-align: top;\n",
       "    }\n",
       "\n",
       "    .dataframe thead th {\n",
       "        text-align: right;\n",
       "    }\n",
       "</style>\n",
       "<table border=\"1\" class=\"dataframe\">\n",
       "  <thead>\n",
       "    <tr style=\"text-align: right;\">\n",
       "      <th></th>\n",
       "      <th>name</th>\n",
       "      <th>brand</th>\n",
       "      <th>comments</th>\n",
       "      <th>mean_price</th>\n",
       "      <th>total_sales</th>\n",
       "      <th>total_money</th>\n",
       "    </tr>\n",
       "  </thead>\n",
       "  <tbody>\n",
       "    <tr>\n",
       "      <th>0</th>\n",
       "      <td>Автомобильный коврик (впитывает влагу и грязь)...</td>\n",
       "      <td>3TON</td>\n",
       "      <td>152</td>\n",
       "      <td>134</td>\n",
       "      <td>1720</td>\n",
       "      <td>230153</td>\n",
       "    </tr>\n",
       "    <tr>\n",
       "      <th>1</th>\n",
       "      <td>Коврики в салон Element, для Kia Rio, 06/2017-...</td>\n",
       "      <td>Element</td>\n",
       "      <td>11</td>\n",
       "      <td>1642</td>\n",
       "      <td>1566</td>\n",
       "      <td>2539862</td>\n",
       "    </tr>\n",
       "    <tr>\n",
       "      <th>2</th>\n",
       "      <td>Коврик автомобильный Верона С, влаговпитывающи...</td>\n",
       "      <td>Верона-С</td>\n",
       "      <td>83</td>\n",
       "      <td>178</td>\n",
       "      <td>1148</td>\n",
       "      <td>205757</td>\n",
       "    </tr>\n",
       "    <tr>\n",
       "      <th>3</th>\n",
       "      <td>Коврики в салон автомобиля Rival для Hyundai S...</td>\n",
       "      <td>Rival</td>\n",
       "      <td>4</td>\n",
       "      <td>1496</td>\n",
       "      <td>974</td>\n",
       "      <td>1453489</td>\n",
       "    </tr>\n",
       "    <tr>\n",
       "      <th>4</th>\n",
       "      <td>Коврики влаговпитывающие DolleX 50 х 38 см, 2 шт</td>\n",
       "      <td>DolleX</td>\n",
       "      <td>103</td>\n",
       "      <td>177</td>\n",
       "      <td>938</td>\n",
       "      <td>166256</td>\n",
       "    </tr>\n",
       "    <tr>\n",
       "      <th>...</th>\n",
       "      <td>...</td>\n",
       "      <td>...</td>\n",
       "      <td>...</td>\n",
       "      <td>...</td>\n",
       "      <td>...</td>\n",
       "      <td>...</td>\n",
       "    </tr>\n",
       "    <tr>\n",
       "      <th>1414</th>\n",
       "      <td>Коврик на торпеду с логотипом KIA</td>\n",
       "      <td>-</td>\n",
       "      <td>9</td>\n",
       "      <td>303</td>\n",
       "      <td>6</td>\n",
       "      <td>1756</td>\n",
       "    </tr>\n",
       "    <tr>\n",
       "      <th>1415</th>\n",
       "      <td>Автомобильные EVA коврики с бортами на Lada Ve...</td>\n",
       "      <td>AUTORET</td>\n",
       "      <td>1</td>\n",
       "      <td>3000</td>\n",
       "      <td>6</td>\n",
       "      <td>18000</td>\n",
       "    </tr>\n",
       "    <tr>\n",
       "      <th>1416</th>\n",
       "      <td>Коврик на приборную панель с логотипом Lada Лада</td>\n",
       "      <td>Haomai</td>\n",
       "      <td>18</td>\n",
       "      <td>281</td>\n",
       "      <td>6</td>\n",
       "      <td>1725</td>\n",
       "    </tr>\n",
       "    <tr>\n",
       "      <th>1417</th>\n",
       "      <td>Резиновые коврики Сетка Seintex для BMW 3 Ser ...</td>\n",
       "      <td>Seintex</td>\n",
       "      <td>0</td>\n",
       "      <td>3502</td>\n",
       "      <td>6</td>\n",
       "      <td>21540</td>\n",
       "    </tr>\n",
       "    <tr>\n",
       "      <th>1418</th>\n",
       "      <td>Антискользящие силиконовые коврики вкладыши в ...</td>\n",
       "      <td>Salman</td>\n",
       "      <td>3</td>\n",
       "      <td>920</td>\n",
       "      <td>6</td>\n",
       "      <td>5520</td>\n",
       "    </tr>\n",
       "  </tbody>\n",
       "</table>\n",
       "<p>1419 rows × 6 columns</p>\n",
       "</div>"
      ],
      "text/plain": [
       "                                                   name     brand  comments  \\\n",
       "0     Автомобильный коврик (впитывает влагу и грязь)...      3TON       152   \n",
       "1     Коврики в салон Element, для Kia Rio, 06/2017-...   Element        11   \n",
       "2     Коврик автомобильный Верона С, влаговпитывающи...  Верона-С        83   \n",
       "3     Коврики в салон автомобиля Rival для Hyundai S...     Rival         4   \n",
       "4      Коврики влаговпитывающие DolleX 50 х 38 см, 2 шт    DolleX       103   \n",
       "...                                                 ...       ...       ...   \n",
       "1414                  Коврик на торпеду с логотипом KIA         -         9   \n",
       "1415  Автомобильные EVA коврики с бортами на Lada Ve...   AUTORET         1   \n",
       "1416   Коврик на приборную панель с логотипом Lada Лада    Haomai        18   \n",
       "1417  Резиновые коврики Сетка Seintex для BMW 3 Ser ...   Seintex         0   \n",
       "1418  Антискользящие силиконовые коврики вкладыши в ...    Salman         3   \n",
       "\n",
       "      mean_price  total_sales  total_money  \n",
       "0            134         1720       230153  \n",
       "1           1642         1566      2539862  \n",
       "2            178         1148       205757  \n",
       "3           1496          974      1453489  \n",
       "4            177          938       166256  \n",
       "...          ...          ...          ...  \n",
       "1414         303            6         1756  \n",
       "1415        3000            6        18000  \n",
       "1416         281            6         1725  \n",
       "1417        3502            6        21540  \n",
       "1418         920            6         5520  \n",
       "\n",
       "[1419 rows x 6 columns]"
      ]
     },
     "execution_count": 13,
     "metadata": {},
     "output_type": "execute_result"
    }
   ],
   "source": [
    "carpets = full_df.loc[full_df['name'].str.contains(\"ковр|ковер|ковёр\", case=False)]\n",
    "carpets.sort_values('total_sales', ascending = False).reset_index() \\\n",
    "    .drop(['index'], axis=1)"
   ]
  },
  {
   "cell_type": "markdown",
   "id": "0c8ef04c",
   "metadata": {},
   "source": [
    "Выводим в эксель, на этом моменте анализ окончен."
   ]
  },
  {
   "cell_type": "code",
   "execution_count": 14,
   "id": "ff463ff2",
   "metadata": {},
   "outputs": [],
   "source": [
    "carpets.sort_values('total_sales', ascending = False).reset_index() \\\n",
    "    .drop(['index'], axis=1).to_excel(\"all_carpets.xlsx\")"
   ]
  },
  {
   "cell_type": "code",
   "execution_count": null,
   "id": "ba739ce7",
   "metadata": {},
   "outputs": [],
   "source": []
  },
  {
   "cell_type": "code",
   "execution_count": null,
   "id": "2af4e7ba",
   "metadata": {},
   "outputs": [],
   "source": []
  }
 ],
 "metadata": {
  "kernelspec": {
   "display_name": "Python 3 (ipykernel)",
   "language": "python",
   "name": "python3"
  },
  "language_info": {
   "codemirror_mode": {
    "name": "ipython",
    "version": 3
   },
   "file_extension": ".py",
   "mimetype": "text/x-python",
   "name": "python",
   "nbconvert_exporter": "python",
   "pygments_lexer": "ipython3",
   "version": "3.9.6"
  }
 },
 "nbformat": 4,
 "nbformat_minor": 5
}
