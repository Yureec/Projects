{
 "cells": [
  {
   "cell_type": "markdown",
   "id": "f1b721f6",
   "metadata": {},
   "source": [
    "## Анализ рынка продажи смартфонов за 01.11.2021 - 16.02.2022"
   ]
  },
  {
   "cell_type": "markdown",
   "id": "b2a98554",
   "metadata": {},
   "source": [
    "Данный анализ проводился с целью выявления самых популярных моделей телефонов для заказа чехлов на них и торговли этими чехлами на маркетплейсе. "
   ]
  },
  {
   "cell_type": "markdown",
   "id": "0b64e8bd",
   "metadata": {},
   "source": [
    "Импортируем необходимые для работы библиотеки"
   ]
  },
  {
   "cell_type": "code",
   "execution_count": 1,
   "id": "72f4ae66",
   "metadata": {},
   "outputs": [],
   "source": [
    "import pandas as pd\n",
    "import os # для работы с файлами"
   ]
  },
  {
   "cell_type": "markdown",
   "id": "f2291e51",
   "metadata": {},
   "source": [
    "С сайта shopstat.ru забираем необходимую статистику. Статистику можно скачать в формате .csv, по 50 записей в одном файле.\n",
    "\n",
    "В данном случае я вручную загрузил 20 файлов (1000 записей) в категории \"топ продаж мобильных телефонов за 01/11/2021 - 16/02/2022\". Данные взяты с маркетплейса **ozon.ru**"
   ]
  },
  {
   "cell_type": "markdown",
   "id": "130b7b73",
   "metadata": {},
   "source": [
    "Создадим ДатаФрейм из первого файла, куда будем присоединять остальные "
   ]
  },
  {
   "cell_type": "code",
   "execution_count": 2,
   "id": "5371f3e9",
   "metadata": {},
   "outputs": [],
   "source": [
    "full_df = pd.read_csv('1.csv', encoding='cp1251')"
   ]
  },
  {
   "cell_type": "markdown",
   "id": "2d64a8ba",
   "metadata": {},
   "source": [
    "Циклом присоединяем остальные ДатаФреймы."
   ]
  },
  {
   "cell_type": "code",
   "execution_count": 3,
   "id": "0f1a160f",
   "metadata": {},
   "outputs": [],
   "source": [
    "for i in range(1,20):\n",
    "    i += 1\n",
    "    n = str(i)+\".csv\"\n",
    "    temp_df = pd.read_csv(n, encoding='cp1251')\n",
    "    full_df = pd.concat([full_df, temp_df])"
   ]
  },
  {
   "cell_type": "markdown",
   "id": "2b4764ef",
   "metadata": {},
   "source": [
    "Проверим количество строк, колонок, удалим дубликаты, если есть."
   ]
  },
  {
   "cell_type": "code",
   "execution_count": 4,
   "id": "c2c24fc5",
   "metadata": {},
   "outputs": [],
   "source": [
    "full_df = full_df.drop_duplicates()"
   ]
  },
  {
   "cell_type": "code",
   "execution_count": 5,
   "id": "61685e51",
   "metadata": {},
   "outputs": [
    {
     "data": {
      "text/plain": [
       "(1000, 14)"
      ]
     },
     "execution_count": 5,
     "metadata": {},
     "output_type": "execute_result"
    }
   ],
   "source": [
    "full_df.shape"
   ]
  },
  {
   "cell_type": "markdown",
   "id": "67e1d186",
   "metadata": {},
   "source": [
    "Посмотрим содержимое, первые три строки:"
   ]
  },
  {
   "cell_type": "code",
   "execution_count": 6,
   "id": "ad823554",
   "metadata": {
    "scrolled": false
   },
   "outputs": [
    {
     "data": {
      "text/html": [
       "<div>\n",
       "<style scoped>\n",
       "    .dataframe tbody tr th:only-of-type {\n",
       "        vertical-align: middle;\n",
       "    }\n",
       "\n",
       "    .dataframe tbody tr th {\n",
       "        vertical-align: top;\n",
       "    }\n",
       "\n",
       "    .dataframe thead th {\n",
       "        text-align: right;\n",
       "    }\n",
       "</style>\n",
       "<table border=\"1\" class=\"dataframe\">\n",
       "  <thead>\n",
       "    <tr style=\"text-align: right;\">\n",
       "      <th></th>\n",
       "      <th>SKU</th>\n",
       "      <th>Название</th>\n",
       "      <th>Категория</th>\n",
       "      <th>Бренд</th>\n",
       "      <th>Остаток</th>\n",
       "      <th>Отзывов</th>\n",
       "      <th>Минимальная цена</th>\n",
       "      <th>Максимальная цена</th>\n",
       "      <th>Средняя цена</th>\n",
       "      <th>Продаж</th>\n",
       "      <th>Выручка</th>\n",
       "      <th>Ссылка на товар</th>\n",
       "      <th>Фото</th>\n",
       "      <th>Рейтинг</th>\n",
       "    </tr>\n",
       "  </thead>\n",
       "  <tbody>\n",
       "    <tr>\n",
       "      <th>0</th>\n",
       "      <td>251217817</td>\n",
       "      <td>Смартфон Samsung Galaxy A02 2/32GB, синий</td>\n",
       "      <td>Смартфоны</td>\n",
       "      <td>Samsung</td>\n",
       "      <td>51</td>\n",
       "      <td>2</td>\n",
       "      <td>9221</td>\n",
       "      <td>9221</td>\n",
       "      <td>8857</td>\n",
       "      <td>1738</td>\n",
       "      <td>15367260</td>\n",
       "      <td>https://www.ozon.ru/context/detail/id/251217817/</td>\n",
       "      <td>https://cdn1.ozone.ru/s3/multimedia-8/60553520...</td>\n",
       "      <td>4.50</td>\n",
       "    </tr>\n",
       "    <tr>\n",
       "      <th>1</th>\n",
       "      <td>262327060</td>\n",
       "      <td>Смартфон Xiaomi Redmi 9A 2/32GB, зеленый</td>\n",
       "      <td>Смартфоны</td>\n",
       "      <td>Xiaomi</td>\n",
       "      <td>25</td>\n",
       "      <td>4</td>\n",
       "      <td>8900</td>\n",
       "      <td>8900</td>\n",
       "      <td>8546</td>\n",
       "      <td>642</td>\n",
       "      <td>5707800</td>\n",
       "      <td>https://www.ozon.ru/context/detail/id/262327060/</td>\n",
       "      <td>https://cdn1.ozone.ru/s3/multimedia-1/60809683...</td>\n",
       "      <td>5.00</td>\n",
       "    </tr>\n",
       "    <tr>\n",
       "      <th>2</th>\n",
       "      <td>254513996</td>\n",
       "      <td>Смартфон Poco X3 Pro 8/256GB, синий</td>\n",
       "      <td>Смартфоны</td>\n",
       "      <td>Poco</td>\n",
       "      <td>375</td>\n",
       "      <td>4700</td>\n",
       "      <td>24980</td>\n",
       "      <td>24980</td>\n",
       "      <td>23186</td>\n",
       "      <td>392</td>\n",
       "      <td>9246990</td>\n",
       "      <td>https://www.ozon.ru/context/detail/id/254513996/</td>\n",
       "      <td>https://cdn1.ozone.ru/s3/multimedia-f/60572614...</td>\n",
       "      <td>4.92</td>\n",
       "    </tr>\n",
       "  </tbody>\n",
       "</table>\n",
       "</div>"
      ],
      "text/plain": [
       "         SKU                                   Название  Категория    Бренд  \\\n",
       "0  251217817  Смартфон Samsung Galaxy A02 2/32GB, синий  Смартфоны  Samsung   \n",
       "1  262327060   Смартфон Xiaomi Redmi 9A 2/32GB, зеленый  Смартфоны   Xiaomi   \n",
       "2  254513996        Смартфон Poco X3 Pro 8/256GB, синий  Смартфоны     Poco   \n",
       "\n",
       "   Остаток  Отзывов  Минимальная цена  Максимальная цена  Средняя цена  \\\n",
       "0       51        2              9221               9221          8857   \n",
       "1       25        4              8900               8900          8546   \n",
       "2      375     4700             24980              24980         23186   \n",
       "\n",
       "   Продаж   Выручка                                   Ссылка на товар  \\\n",
       "0    1738  15367260  https://www.ozon.ru/context/detail/id/251217817/   \n",
       "1     642   5707800  https://www.ozon.ru/context/detail/id/262327060/   \n",
       "2     392   9246990  https://www.ozon.ru/context/detail/id/254513996/   \n",
       "\n",
       "                                                Фото  Рейтинг  \n",
       "0  https://cdn1.ozone.ru/s3/multimedia-8/60553520...     4.50  \n",
       "1  https://cdn1.ozone.ru/s3/multimedia-1/60809683...     5.00  \n",
       "2  https://cdn1.ozone.ru/s3/multimedia-f/60572614...     4.92  "
      ]
     },
     "execution_count": 6,
     "metadata": {},
     "output_type": "execute_result"
    }
   ],
   "source": [
    "full_df.head(3)"
   ]
  },
  {
   "cell_type": "markdown",
   "id": "8cba1e60",
   "metadata": {},
   "source": [
    "Очистим данные - уберем ненужные колонки, такие как - SKU, остаток, мин.цену, макс.цену, ссылки, фото и рейтинг"
   ]
  },
  {
   "cell_type": "code",
   "execution_count": 7,
   "id": "e2a1e559",
   "metadata": {},
   "outputs": [
    {
     "data": {
      "text/html": [
       "<div>\n",
       "<style scoped>\n",
       "    .dataframe tbody tr th:only-of-type {\n",
       "        vertical-align: middle;\n",
       "    }\n",
       "\n",
       "    .dataframe tbody tr th {\n",
       "        vertical-align: top;\n",
       "    }\n",
       "\n",
       "    .dataframe thead th {\n",
       "        text-align: right;\n",
       "    }\n",
       "</style>\n",
       "<table border=\"1\" class=\"dataframe\">\n",
       "  <thead>\n",
       "    <tr style=\"text-align: right;\">\n",
       "      <th></th>\n",
       "      <th>Название</th>\n",
       "      <th>Бренд</th>\n",
       "      <th>Отзывов</th>\n",
       "      <th>Средняя цена</th>\n",
       "      <th>Продаж</th>\n",
       "      <th>Выручка</th>\n",
       "    </tr>\n",
       "  </thead>\n",
       "  <tbody>\n",
       "    <tr>\n",
       "      <th>0</th>\n",
       "      <td>Смартфон Samsung Galaxy A02 2/32GB, синий</td>\n",
       "      <td>Samsung</td>\n",
       "      <td>2</td>\n",
       "      <td>8857</td>\n",
       "      <td>1738</td>\n",
       "      <td>15367260</td>\n",
       "    </tr>\n",
       "    <tr>\n",
       "      <th>1</th>\n",
       "      <td>Смартфон Xiaomi Redmi 9A 2/32GB, зеленый</td>\n",
       "      <td>Xiaomi</td>\n",
       "      <td>4</td>\n",
       "      <td>8546</td>\n",
       "      <td>642</td>\n",
       "      <td>5707800</td>\n",
       "    </tr>\n",
       "    <tr>\n",
       "      <th>2</th>\n",
       "      <td>Смартфон Poco X3 Pro 8/256GB, синий</td>\n",
       "      <td>Poco</td>\n",
       "      <td>4700</td>\n",
       "      <td>23186</td>\n",
       "      <td>392</td>\n",
       "      <td>9246990</td>\n",
       "    </tr>\n",
       "  </tbody>\n",
       "</table>\n",
       "</div>"
      ],
      "text/plain": [
       "                                    Название    Бренд  Отзывов  Средняя цена  \\\n",
       "0  Смартфон Samsung Galaxy A02 2/32GB, синий  Samsung        2          8857   \n",
       "1   Смартфон Xiaomi Redmi 9A 2/32GB, зеленый   Xiaomi        4          8546   \n",
       "2        Смартфон Poco X3 Pro 8/256GB, синий     Poco     4700         23186   \n",
       "\n",
       "   Продаж   Выручка  \n",
       "0    1738  15367260  \n",
       "1     642   5707800  \n",
       "2     392   9246990  "
      ]
     },
     "execution_count": 7,
     "metadata": {},
     "output_type": "execute_result"
    }
   ],
   "source": [
    "full_df.drop(['SKU', 'Категория', 'Остаток', 'Минимальная цена', 'Максимальная цена', 'Ссылка на товар', 'Фото', 'Рейтинг'], axis=1, inplace=True) \n",
    "full_df.head(3)"
   ]
  },
  {
   "cell_type": "markdown",
   "id": "14e7be24",
   "metadata": {},
   "source": [
    "Теперь нам необходимо вычистить даннные - убрать \"Смартфон\" из названия, разделить производителя и модель устройства, убрать цвет и сгруппировать данные по моделям (\"Смартфон HTC Desire 10 Pro, синий\" для нас ничем не отличается от \"Смартфон HTC Desire 10 Pro, черный\")"
   ]
  },
  {
   "cell_type": "code",
   "execution_count": 8,
   "id": "464f71cb",
   "metadata": {},
   "outputs": [],
   "source": [
    "def split_brand(brand_name):\n",
    "    return brand_name.split(' ')[1]"
   ]
  },
  {
   "cell_type": "code",
   "execution_count": 9,
   "id": "e0e8b9e6",
   "metadata": {},
   "outputs": [],
   "source": [
    "full_df.insert(1, 'brand_name', full_df['Название'].apply(split_brand))"
   ]
  },
  {
   "cell_type": "code",
   "execution_count": 10,
   "id": "dd889595",
   "metadata": {},
   "outputs": [],
   "source": [
    "def model_name(model_name):\n",
    "    x = len(model_name.split(' ')[2:8])\n",
    "    if x < 5:\n",
    "        return str(model_name.split(' ')[2]) + (' ') + str(model_name.split(' ')[3])\n",
    "    else: \n",
    "        return str(model_name.split(' ')[2]) + (' ') + str(model_name.split(' ')[3]) + (' ') + str(model_name.split(' ')[4])\n"
   ]
  },
  {
   "cell_type": "code",
   "execution_count": 11,
   "id": "b06171ae",
   "metadata": {},
   "outputs": [],
   "source": [
    "full_df.insert(2, 'model_name', full_df['Название'].apply(model_name))"
   ]
  },
  {
   "cell_type": "markdown",
   "id": "8c2bc242",
   "metadata": {},
   "source": [
    "Удаляем лишнее и переименовываем колонки на английский, для удобства пользования"
   ]
  },
  {
   "cell_type": "code",
   "execution_count": 12,
   "id": "f5590dab",
   "metadata": {
    "scrolled": true
   },
   "outputs": [],
   "source": [
    "full_df.drop(['Название', 'Бренд'], axis=1, inplace=True) "
   ]
  },
  {
   "cell_type": "code",
   "execution_count": 13,
   "id": "f59b8759",
   "metadata": {},
   "outputs": [],
   "source": [
    "# Также приведем все записи в датафрейме к нижнему регистру:\n",
    "full_df.brand_name = full_df.brand_name.str.lower()\n",
    "full_df.model_name = full_df.model_name.str.lower()"
   ]
  },
  {
   "cell_type": "code",
   "execution_count": 14,
   "id": "9dc486a5",
   "metadata": {
    "scrolled": true
   },
   "outputs": [],
   "source": [
    "full_df = full_df.rename(columns = {'Средняя цена': 'mean_price', 'Продаж': 'total_sales', 'Выручка': 'total_money',  'Отзывов': 'comments'})"
   ]
  },
  {
   "cell_type": "markdown",
   "id": "c72245a0",
   "metadata": {},
   "source": [
    "**Группируем все данные по производителю и модели устройства**"
   ]
  },
  {
   "cell_type": "code",
   "execution_count": 15,
   "id": "dd2a744a",
   "metadata": {},
   "outputs": [
    {
     "data": {
      "text/html": [
       "<div>\n",
       "<style scoped>\n",
       "    .dataframe tbody tr th:only-of-type {\n",
       "        vertical-align: middle;\n",
       "    }\n",
       "\n",
       "    .dataframe tbody tr th {\n",
       "        vertical-align: top;\n",
       "    }\n",
       "\n",
       "    .dataframe thead th {\n",
       "        text-align: right;\n",
       "    }\n",
       "</style>\n",
       "<table border=\"1\" class=\"dataframe\">\n",
       "  <thead>\n",
       "    <tr style=\"text-align: right;\">\n",
       "      <th></th>\n",
       "      <th>brand_name</th>\n",
       "      <th>model_name</th>\n",
       "      <th>total_sales</th>\n",
       "    </tr>\n",
       "  </thead>\n",
       "  <tbody>\n",
       "    <tr>\n",
       "      <th>205</th>\n",
       "      <td>samsung</td>\n",
       "      <td>galaxy a12</td>\n",
       "      <td>15252</td>\n",
       "    </tr>\n",
       "    <tr>\n",
       "      <th>294</th>\n",
       "      <td>xiaomi</td>\n",
       "      <td>redmi 9a</td>\n",
       "      <td>11075</td>\n",
       "    </tr>\n",
       "    <tr>\n",
       "      <th>309</th>\n",
       "      <td>xiaomi</td>\n",
       "      <td>redmi note 10s</td>\n",
       "      <td>8037</td>\n",
       "    </tr>\n",
       "    <tr>\n",
       "      <th>261</th>\n",
       "      <td>vivo</td>\n",
       "      <td>y53s helio g80</td>\n",
       "      <td>4761</td>\n",
       "    </tr>\n",
       "    <tr>\n",
       "      <th>220</th>\n",
       "      <td>samsung</td>\n",
       "      <td>galaxy a32 4/64gb</td>\n",
       "      <td>3615</td>\n",
       "    </tr>\n",
       "    <tr>\n",
       "      <th>...</th>\n",
       "      <td>...</td>\n",
       "      <td>...</td>\n",
       "      <td>...</td>\n",
       "    </tr>\n",
       "    <tr>\n",
       "      <th>151</th>\n",
       "      <td>oukitel</td>\n",
       "      <td>c25 4/32gb,</td>\n",
       "      <td>7</td>\n",
       "    </tr>\n",
       "    <tr>\n",
       "      <th>4</th>\n",
       "      <td>alcatel</td>\n",
       "      <td>5033fr 1/32gb,</td>\n",
       "      <td>7</td>\n",
       "    </tr>\n",
       "    <tr>\n",
       "      <th>118</th>\n",
       "      <td>mini</td>\n",
       "      <td>x50 4,0-дюймовый двухъядерный</td>\n",
       "      <td>7</td>\n",
       "    </tr>\n",
       "    <tr>\n",
       "      <th>191</th>\n",
       "      <td>rino4</td>\n",
       "      <td>pro-11, черный</td>\n",
       "      <td>7</td>\n",
       "    </tr>\n",
       "    <tr>\n",
       "      <th>25</th>\n",
       "      <td>blackview</td>\n",
       "      <td>bv9900e 6/128gb,</td>\n",
       "      <td>7</td>\n",
       "    </tr>\n",
       "  </tbody>\n",
       "</table>\n",
       "<p>333 rows × 3 columns</p>\n",
       "</div>"
      ],
      "text/plain": [
       "    brand_name                     model_name  total_sales\n",
       "205    samsung                     galaxy a12        15252\n",
       "294     xiaomi                       redmi 9a        11075\n",
       "309     xiaomi                 redmi note 10s         8037\n",
       "261       vivo                 y53s helio g80         4761\n",
       "220    samsung              galaxy a32 4/64gb         3615\n",
       "..         ...                            ...          ...\n",
       "151    oukitel                    c25 4/32gb,            7\n",
       "4      alcatel                 5033fr 1/32gb,            7\n",
       "118       mini  x50 4,0-дюймовый двухъядерный            7\n",
       "191      rino4                 pro-11, черный            7\n",
       "25   blackview               bv9900e 6/128gb,            7\n",
       "\n",
       "[333 rows x 3 columns]"
      ]
     },
     "execution_count": 15,
     "metadata": {},
     "output_type": "execute_result"
    }
   ],
   "source": [
    "full_df.groupby(['brand_name', 'model_name'], as_index = False) \\\n",
    "    .agg({'total_sales': 'sum'}) \\\n",
    "    .sort_values('total_sales', ascending = False) \\\n",
    "    .query ('total_sales > 0')"
   ]
  },
  {
   "cell_type": "markdown",
   "id": "87bdcb3f",
   "metadata": {},
   "source": [
    "Смотрим внимательно на данные столбца model_name и видим, что в исходном ДФ часть данных была собрана с ошибками. \n",
    "\n",
    "Придется эти данные откорректировать вручную, иначе группировка по модели не имеет смысла ('Redmi 9A' и 'Redmi 9A32GB,' для нас это одно и то же, а в ДФ это разные строки с разной суммой по продажам)"
   ]
  },
  {
   "cell_type": "code",
   "execution_count": 16,
   "id": "6f83f2ab",
   "metadata": {
    "collapsed": true
   },
   "outputs": [
    {
     "data": {
      "text/plain": [
       "array(['galaxy a12', 'redmi 9a', 'redmi note 10s', 'y53s helio g80',\n",
       "       'galaxy a32 4/64gb', 'y31 4/64gb,', 'redmi 9c', 'galaxy а52',\n",
       "       'galaxy a52 8/256gb', 'redmi 9a (китайская', 'y31 snapdragon 662',\n",
       "       'galaxy a02', 'galaxy a 22', 'x3 pro', '8x восстановленный',\n",
       "       'galaxy a12 (2021)', '11 lite 5g', '11t 8/256gb,', 'blade l210',\n",
       "       'kf6m spark 7', 'redmi note 8', 'iphone 11', 'bv6300 3/32gb,',\n",
       "       'pixel 4 xl', 'c25s 4/128gb,', 'spark 8p 4/64gb,', 'pixel 4',\n",
       "       'pixel 3', '6 pro восстановленный', 'iphone 12', 'pixel 3a xl',\n",
       "       'note 10s', 'c11 (2021)', '8x восстановленный телефон',\n",
       "       'galaxy m32 6/128gb', 'pixel 3a', 'c25s 4/128gb water', 'redmi 10',\n",
       "       'redmi note 9', 'blade l9', 'spark 7', 'a54 4/64gb,',\n",
       "       'p20 lite 2018', 'v21e 8/128gb,', 'redmi note 10',\n",
       "       'note 4x восстановленный', 'nova 3i восстановленный',\n",
       "       '5046l 2/16gb,', '6631g surf', 'c21y 3/32gb,', 'p20 pro',\n",
       "       'galaxy m12', '6051g 2/16gb,', 'wildfire e2',\n",
       "       'note4 восстановленный', 'redmi 10 helio', 'c25s 4/64gb,',\n",
       "       'redmi 9c helio', '5745l clever32gb,', 'galaxy a32 4/128gb',\n",
       "       'iphone 13 pro', 'c11 (2021)32gb,', 'galaxy s20 fe', 'blade a3',\n",
       "       '4030g 1/16gb,', '6051g 2/32gb,', 'gt master edition',\n",
       "       'redmi 9a 32gb', '5031g fun night', 'galaxy a12 3/32gb,',\n",
       "       'sm-a032fzkdser 2/32gb,', 'xiaomi redmi 4x', 'redmi 9a32gb,',\n",
       "       'galaxy a12 4/64gb,', 'galaxy a03 core', 'redmi 9c nfc',\n",
       "       '9 восстановленный', 'iphone 13 128gb,', 'wildfire e lite',\n",
       "       '7.2 6/128gb,', 'galaxy a', 'blade a51', 'galaxy a52256gb,',\n",
       "       'galaxy m12 4/64gb', 'redmi 9t', 'galaxy a32', 'bv4900 3/32gb,',\n",
       "       'y31 4/64gb ocean', 'mi 8', 'c11 2/32gb,', 'y5p 2/32gb,',\n",
       "       'galaxy s21 fe', 'galaxy m12 4/64gb,', 'iphone 13',\n",
       "       'galaxy a03s32gb,', '1.4 3/64gb,', 'galaxy a12 4/128gb,',\n",
       "       'a25 1/16gb,', 'galaxy a03', 'redmi 6 pro', 'blade a31 2/32gb',\n",
       "       'galaxy a21s', 'galaxy a52 4/128gb', 'redmi 9a 4gb',\n",
       "       'a74 4/128gb,', '5016g choice', 'blade a71', '10 3/32gb,',\n",
       "       'g20 4/64gb,', 'galaxy m22', '5.4 ds',\n",
       "       'f3 6.67\"fhd+/120hz/sd870/and11/48+8+5mp/20mp/nfc/4520mah',\n",
       "       'blade a31 plus', 'galaxy a0232gb,', 'galaxy a02 2/32gb',\n",
       "       '5745l clever', 'redmi 4x восстановленный', 'p30 6/128gb,',\n",
       "       '6022g 2/16gb,', 'sm-a022 galaxy a02', 'a17 ds', 'pixel-3 4/64gb,',\n",
       "       'galaxy a52', 'redmi note 10t', 'pixel-3 4/128gb,', '8i 4/64gb,',\n",
       "       '1 1/1gb,', '6022g16gb, фиолетовый', 'redmi 9a ', 'x3 pro256gb,',\n",
       "       'blade l210 1/32gb', 'm3 pro', 'desire 10', 'one m9,',\n",
       "       'note 7 восстановленный', 'galaxy a03s64gb,', 'x20 ds',\n",
       "       '6630 3/32gb,', '7.2 4/,', 'galaxy a41', 'honor 8x', '5047l like',\n",
       "       'y31 4/128gb,', 'galaxy a52128gb,', 'f3 8/256gb,', 'c30 2/32gb,',\n",
       "       'galaxy a12 3/32gb', 'c21y 4/64gb,', 'pova 2', 'blade a51 lite',\n",
       "       'a48 2/32gb,', 'iphone 13 mini', 'a48 2/32gb gradation',\n",
       "       '1 1/8gb,', 'y5p black,', 'hot 10 lite.', 'reno 5 lite',\n",
       "       'p smart 2021', 'spark 8p', 'redmi 10 4/64gb', 'c20 2/32gb,',\n",
       "       'pixel-2xl 4/128gb,', 'p20 pro,', '8x 4/128gb,', 'pixel 3 xl',\n",
       "       '5 2/16gb,', '3/32gb, розовый', '7 plus', '8128gb, черный',\n",
       "       'pixel-3xl 4/128gb,', 'redmi note 7', 'gt neo 2',\n",
       "       'galaxy m22 4/128gb', 'k7x, черный', 'x3 6/128gb,', 'hot 10 lite',\n",
       "       'iphone 12 mini', 'king kong mini', '4/64gb, золотой',\n",
       "       '4/64gb, черный', 'redmi 4x', '8 6/128gb,', 'poco x3 pro',\n",
       "       'galaxy a52 sm-a525f', 'y53s 6/128gb,', 'galaxy m32',\n",
       "       '50 8/128gb,', 'galaxy a22 4/128gb', 'smart 6', '11t 8/128gb,',\n",
       "       'iphone 11 pro', 'm3 4/128gb blue', 'galaxy a12 sm-a127f',\n",
       "       'reno 5', 'a55 4/128gb,', 'redmi 9c 4/128gb', 'vision 1',\n",
       "       'note 9 pro', 'iphone 13 256gb,', 'blade a3 2020', '3l 5029y',\n",
       "       '6042l magic e', 'c21 3/32gb,', 'y6p med-lx9n', 'note 6 pro',\n",
       "       'wp5 pro 4/64gb,', 'wp12 pro', 'galaxy m32 sm-m325', '2 2021',\n",
       "       '5533g fresh', 'rover taskphone', '7 4/64gb,', '13 pro',\n",
       "       '9a 4/64gb,', 'hot 11s nfc', 'c30 3/64gb,', '5740 1/16gb,',\n",
       "       '5533g fresh cherry', 'pixel-2 4/128gb,', '6645l  element',\n",
       "       'note 5a восстановленный', 'poco m3 pro', '1/8gb, красный',\n",
       "       'bv6600 4/64gb,', '5 8/128gb,', 'narzo 50a', 'iphone 13 512gb,',\n",
       "       'alcarel 5033d', 'x20 (ta-1341)', 'pixel-3a 4/64gb,',\n",
       "       '50 6/128gb,', 'y31 4/64gb racing', 'b2021 6/64gb,', 'a16 3/32gb,',\n",
       "       'redmi 7a совершенно', 'blade a3,', 'gt 8/128gb,',\n",
       "       '20 4g (китайская', 'pixel-3xl 4/64gb,', 'galaxy a22s 5g',\n",
       "       'mi 11 lite', 'c01 plus', 'bv4900 pro', 'moto g30', 'poco x3',\n",
       "       'blade l21032gb,', 'iphone se (2020)', 'g20 4/32gb, синий.',\n",
       "       'c25s 4/64gb water', 'galaxy a12 (exynos)', 'u11+ 4/128gb,',\n",
       "       'redmi 9c32gb,', 'a03 core', 'note 10 pro', 'm4 pro',\n",
       "       'galaxy a12 4/128gb', 'reno 6', '5533g fresh night',\n",
       "       'galaxya12 4/128gb,', '11, черный', 'x10 ds', 'wp17 8/128gb,',\n",
       "       'galaxy a52 sm-a525', '6051g soul 2/32gb,', 'blade a51 2/64gb,',\n",
       "       'redmi 9c64gb,', 'iphone xs как', 'galaxy a02s (2021)',\n",
       "       'zenfone 8', 'pixel 4a 6/128gb,', 'redmi 9 ', 'pro, голубой',\n",
       "       'a11 pro max', '8i 4/128gb', '8i 4/64gb', 'g50 4/128gb,',\n",
       "       'x3 6/128gb, синий.', '1b 5002h', 'x 95', 'blade l210 голубой',\n",
       "       'wildfire e 3', 's42h+ 32/,', 'cat s62 pro', 'c21-y 3/32gb blue',\n",
       "       'pova 2 4/128gb', '3.4 3/64gb,', '11 lite', 'a55 4/64gb,',\n",
       "       '8i 4/128gb,', 'moto g9 play', 'u ultra', 'wp5 4/32gb,',\n",
       "       'galaxy m52 5g', 'redmi note', 'galaxy a22 4/64gb', 'gt neo2 5g',\n",
       "       'bison128gb, черный,', '4/64gb, синий', 'blade l210 ',\n",
       "       '11, (product)red', 'redmi 10 (nfc)', 'c11 2021 2/32gb',\n",
       "       '11 128gb,', '11 64gb,', 'c30 (ta-1359)', '50 lite 6/128gb',\n",
       "       'hot 11 play', 'it2320, белый', '2/16gb, белый', 'iphone xs max',\n",
       "       'g3502 4g', '5.0 дюймов mtk6572', 'pixel 5a 5g', '5.4 4/128gb,',\n",
       "       '5997132 4/64gb,', 'redmi note8', 'camon 18p',\n",
       "       'plus 5,72-дюймовый двухъядерный', 'galaxy a03 4/64gb', '8 pro',\n",
       "       'y53s 6/128gb', '5 lite 2021', 'c25 4/32gb,', '5033fr 1/32gb,',\n",
       "       'x50 4,0-дюймовый двухъядерный', 'pro-11, черный',\n",
       "       'bv9900e 6/128gb,'], dtype=object)"
      ]
     },
     "execution_count": 16,
     "metadata": {},
     "output_type": "execute_result"
    }
   ],
   "source": [
    "full_df.groupby(['brand_name', 'model_name'], as_index = False) \\\n",
    "    .agg({'total_sales': 'sum'}) \\\n",
    "    .sort_values('total_sales', ascending = False) \\\n",
    "    .query ('total_sales > 0') \\\n",
    "    .model_name.unique()"
   ]
  },
  {
   "cell_type": "markdown",
   "id": "1e859ff2",
   "metadata": {},
   "source": [
    "**Самая долгая и нудная часть по вычищению данных:**"
   ]
  },
  {
   "cell_type": "code",
   "execution_count": 17,
   "id": "fe4320eb",
   "metadata": {},
   "outputs": [],
   "source": [
    "full_df.model_name.replace({\n",
    "       'galaxy a32 4/64gb': 'galaxy a32', 'y31 4/64gb,': 'y31', 'galaxy a52 8/256gb': 'galaxy a52',         'redmi 9a (китайская': 'redmi 9a', 'y31 snapdragon 662': 'y31',       'galaxy a 22': 'galaxy a22', '8x восстановленный': '8x', '11 lite 5g': '11 lite', '11t 8/256gb,': '11t',        'bv6300 3/32gb,': 'bv6300', 'c25s 4/128gb,': 'c25s', 'spark 8p 4/64gb,': 'spark 8p',       '6 pro восстановленный': '6 pro', '8x восстановленный телефон': '8x',       'galaxy m32 6/128gb': 'galaxy m32', 'c25s 4/128gb water': 'c25s',        'a54 4/64gb,': 'a54', 'v21e 8/128gb,': 'v21e', \n",
    "       'note 4x восстановленный': 'note 4x', 'nova 3i восстановленный': 'nova 3i',       '5046l 2/16gb,': '5046l', 'c21y 3/32gb,': 'c21y',        '6051g 2/16gb,': '6051g',       'note4 восстановленный': 'note4', 'redmi 10 helio': 'redmi 10',         'c25s 4/64gb,': 'c25s',       'redmi 9c helio': 'redmi 9c', '5745l clever32gb,': '5745l',        'galaxy a32 4/128gb': 'galaxy a32',      'c11 (2021)32gb,': 'c11 (2021)',        '4030g 1/16gb,': '4030g', '6051g 2/32gb,': '6051g',       'redmi 9a 32gb': 'redmi 9a', '5031g fun night': '5031g',         'galaxy a12 3/32gb,': 'galaxy a12',       'sm-a032fzkdser 2/32gb,': 'sm-a032fzkdser', 'redmi 9a32gb,': 'redmi 9a',\n",
    "       'galaxy a12 4/64gb,': 'galaxy a12', 'galaxy a03 core': 'galaxy a03',         'redmi 9c nfc': 'redmi 9c',       '9 восстановленный': '9', 'iphone 13 128gb,': 'iphone 13',        '7.2 6/128gb,': '7.2', 'galaxy a52256gb,':  'galaxy a52',       'galaxy m12 4/64gb': 'galaxy m12', 'bv4900 3/32gb,': 'bv4900',       'y31 4/64gb ocean': 'y31', 'c11 2/32gb,': 'c11', 'y5p 2/32gb,': 'y5p',       'galaxy m12 4/64gb,': 'galaxy m12',        'galaxy a03s32gb,': 'galaxy a03s', '1.4 3/64gb,': '1.4',         'galaxy a12 4/128gb,': 'galaxy a12',       'a25 1/16gb,': 'a25', 'blade a31 2/32gb': 'blade a31',       'galaxy a52 4/128gb': 'galaxy a52', 'redmi 9a 4gb': 'redmi 9a',\n",
    "       'a74 4/128gb,': 'a74', '5016g choice': '5016g',         '10 3/32gb,': '10',       'g20 4/64gb,': 'g20',        'f3 6.67\"fhd+/120hz/sd870/and11/48+8+5mp/20mp/nfc/4520mah': 'f3',       'galaxy a0232gb,': 'galaxy a02', 'galaxy a02 2/32gb': 'galaxy a02',       '5745l clever': '5745l', 'redmi 4x восстановленный': 'redmi 4x',         'p30 6/128gb,': 'p30',       '6022g 2/16gb,':'6022g', 'sm-a022 galaxy a02': 'galaxy a02',         'pixel-3 4/64gb,': 'pixel-3',       'pixel-3 4/128gb,': 'pixel-3', '8i 4/64gb,': '8i',       '1 1/1gb,': '1', '6022g16gb, фиолетовый': '6022g', \n",
    "    'redmi 9a ':'redmi 9a', 'x3 pro256gb,': 'x3 pro',       'blade l210 1/32gb': 'blade l210',       'note 7 восстановленный': 'note 7', 'galaxy a03s64gb,': 'galaxy a03',        '6630 3/32gb,': '6630', '7.2 4/,': '7.2', '5047l like': '5047l',       'y31 4/128gb,': 'y31', 'galaxy a52128gb,': 'galaxy a52',         'f3 8/256gb,': 'f3', 'c30 2/32gb,': 'c30',       'galaxy a12 3/32gb':'galaxy a12', 'c21y 4/64gb,': 'c21y',        'a48 2/32gb,': 'a48', 'a48 2/32gb gradation': 'a48',       '1 1/8gb,': '1', 'y5p black,': 'y5p',       'redmi 10 4/64gb': 'redmi 10', 'c20 2/32gb,': 'c20',       'pixel-2xl 4/128gb,': 'pixel-2xl', '8x 4/128gb,': '8x', \n",
    "       '5 2/16gb,': '5', '3/32gb, розовый': '3', '8128gb, черный': '8',       'pixel-3xl 4/128gb,': 'pixel-3xl',       'galaxy m22 4/128gb': 'galaxy m22', 'k7x, черный': 'k7x',     'x3 6/128gb,': 'x3',        '8 6/128gb,': '8',        'galaxy a52 sm-a525f': 'galaxy a52', 'y53s 6/128gb,': 'y53s',       '50 8/128gb,': '50', 'galaxy a22 4/128gb': 'galaxy a22', '11t 8/128gb,':'11t',\n",
    "       'm3 4/128gb blue': 'm3', 'galaxy a12 sm-a127f': 'galaxy a12',       'a55 4/128gb,': 'a55', 'redmi 9c 4/128gb': 'redmi 9c',        'iphone 13 256gb,': 'iphone 13', '3l 5029y': '3l',       'c21 3/32gb,':'c21', 'y6p med-lx9n': 'med-lx9n',        'wp5 pro 4/64gb,':'wp5 pro', 'galaxy m32 sm-m325': 'galaxy m32',         '2 2021':'2',       '7 4/64gb,': '7',        '9a 4/64gb,': '9a', 'hot 11s nfc': 'hot 11s', 'c30 3/64gb,':'c30',         '5740 1/16gb,': '5740',       '5533g fresh cherry': '5533g', 'pixel-2 4/128gb,': 'pixel-2',         '6645l  element': '6645l',       'note 5a восстановленный': 'note 5a', '1/8gb, красный': '1',    \n",
    "       'bv6600 4/64gb,': 'bv6600', '5 8/128gb,': '5', 'iphone 13 512gb,': 'iphone 13',      'x20 (ta-1341)': 'x20', 'pixel-3a 4/64gb,': 'pixel-3a',       '50 6/128gb,': '50', 'y31 4/64gb racing': 'y31', 'b2021 6/64gb,': 'b2021',        'a16 3/32gb,': 'a16',       'redmi 7a совершенно': 'redmi 7a', 'gt 8/128gb,': 'gt',       '20 4g (китайская': '20', 'pixel-3xl 4/64gb,': 'pixel-3xl',         'galaxy a22s 5g': 'galaxy a22s',       'blade l21032gb,': 'blade', 'g20 4/32gb, синий.': 'g20',       'c25s 4/64gb water': 'c25s', 'galaxy a12 (exynos)': 'galaxy a12',        'u11+ 4/128gb,': 'u11+',       'redmi 9c32gb,': 'redmi 9c',        'galaxy a12 4/128gb': 'galaxy a12', '5533g fresh night': '5533g',\n",
    "       'galaxya12 4/128gb,': 'galaxy a12', '11, черный': '11', 'wp17 8/128gb,': 'wp17',       'galaxy a52 sm-a525': 'galaxy a52', '6051g soul 2/32gb,': '6051g',        'blade a51 2/64gb,': 'blade a51',       'redmi 9c64gb,': 'redmi 9c', 'iphone xs как': 'iphone xs',        'pixel 4a 6/128gb,': 'pixel 4a', 'pro, голубой': 'pro',       '8i 4/128gb': '8i', '8i 4/64gb': '8i', 'g50 4/128gb,': 'g50',       'x3 6/128gb, синий.': 'x3', '1b 5002h': '1b', 'blade l210 голубой': 'blade l210',       's42h+ 32/,': 's42h+', 'c21-y 3/32gb blue': 'c21y' ,       'pova 2 4/128gb': 'pova 2', '3.4 3/64gb,': '3.4', 'a55 4/64gb,': 'a55',       '8i 4/128gb,': '8i', 'wp5 4/32gb,': 'wp5',\n",
    "       'galaxy m52 5g': 'galaxy m52', 'galaxy a22 4/64gb': 'galaxy a22',        'gt neo2 5g': 'gt neo2',       'bison128gb, черный,': 'bison',        '11, (product)red':'11', 'redmi 10 (nfc)':'redmi 10',         'c11 2021 2/32gb': 'c11',       '11 128gb,': '11', '11 64gb,': '11', 'c30 (ta-1359)': 'c30',        '50 lite 6/128gb': '50 lite',       'it2320, белый': 'it2320',        'g3502 4g': 'g3502', 'pixel 5a 5g': 'pixel 5a',        '5997132 4/64gb,': '5997132', 'redmi note8': 'redmi note 8',        'plus 5,72-дюймовый двухъядерный': 'plus', 'galaxy a03 4/64gb': 'galaxy a03',        'y53s 6/128gb': 'y53s', 'c25 4/32gb,': 'c25', '5033fr 1/32gb,': '5033fr',\n",
    "       'x50 4,0-дюймовый двухъядерный': 'x50', 'pro-11, черный': 'pro 11',       'bv9900e 6/128gb,': 'bv9900e', 'galaxy a52': 'galaxy а52',     'sm-a032fzkdser': 'galaxy a32',     'galaxy a03s': 'galaxy a03', 'a03 core': 'galaxy a03', 'p20 pro,': 'p20 pro'\n",
    "    }, inplace = True)"
   ]
  },
  {
   "cell_type": "markdown",
   "id": "00407c3d",
   "metadata": {},
   "source": [
    "**С 333 наименований сократили до 229.**"
   ]
  },
  {
   "cell_type": "code",
   "execution_count": 18,
   "id": "166f704c",
   "metadata": {},
   "outputs": [
    {
     "data": {
      "text/plain": [
       "229"
      ]
     },
     "execution_count": 18,
     "metadata": {},
     "output_type": "execute_result"
    }
   ],
   "source": [
    "full_df.groupby(['brand_name', 'model_name'], as_index = False) \\\n",
    "    .agg({'total_sales': 'sum'}) \\\n",
    "    .sort_values('total_sales', ascending = False) \\\n",
    "    .query ('total_sales > 0') \\\n",
    "    .model_name.nunique()"
   ]
  },
  {
   "cell_type": "markdown",
   "id": "68a3a57c",
   "metadata": {},
   "source": [
    "**Посмотрим топ-150 моделей по продажам и экспортируем в excel для дальнейшей отправки:**"
   ]
  },
  {
   "cell_type": "code",
   "execution_count": 19,
   "id": "cd495db2",
   "metadata": {},
   "outputs": [
    {
     "data": {
      "text/html": [
       "<div>\n",
       "<style scoped>\n",
       "    .dataframe tbody tr th:only-of-type {\n",
       "        vertical-align: middle;\n",
       "    }\n",
       "\n",
       "    .dataframe tbody tr th {\n",
       "        vertical-align: top;\n",
       "    }\n",
       "\n",
       "    .dataframe thead th {\n",
       "        text-align: right;\n",
       "    }\n",
       "</style>\n",
       "<table border=\"1\" class=\"dataframe\">\n",
       "  <thead>\n",
       "    <tr style=\"text-align: right;\">\n",
       "      <th></th>\n",
       "      <th>brand_name</th>\n",
       "      <th>model_name</th>\n",
       "      <th>total_sales</th>\n",
       "      <th>mean_price</th>\n",
       "    </tr>\n",
       "  </thead>\n",
       "  <tbody>\n",
       "    <tr>\n",
       "      <th>0</th>\n",
       "      <td>samsung</td>\n",
       "      <td>galaxy a12</td>\n",
       "      <td>16395</td>\n",
       "      <td>12792.72</td>\n",
       "    </tr>\n",
       "    <tr>\n",
       "      <th>1</th>\n",
       "      <td>xiaomi</td>\n",
       "      <td>redmi 9a</td>\n",
       "      <td>14475</td>\n",
       "      <td>8367.68</td>\n",
       "    </tr>\n",
       "    <tr>\n",
       "      <th>2</th>\n",
       "      <td>xiaomi</td>\n",
       "      <td>redmi note 10s</td>\n",
       "      <td>8037</td>\n",
       "      <td>19134.91</td>\n",
       "    </tr>\n",
       "    <tr>\n",
       "      <th>3</th>\n",
       "      <td>vivo</td>\n",
       "      <td>y31</td>\n",
       "      <td>5516</td>\n",
       "      <td>14859.06</td>\n",
       "    </tr>\n",
       "    <tr>\n",
       "      <th>4</th>\n",
       "      <td>vivo</td>\n",
       "      <td>y53s helio g80</td>\n",
       "      <td>4761</td>\n",
       "      <td>20023.75</td>\n",
       "    </tr>\n",
       "    <tr>\n",
       "      <th>...</th>\n",
       "      <td>...</td>\n",
       "      <td>...</td>\n",
       "      <td>...</td>\n",
       "      <td>...</td>\n",
       "    </tr>\n",
       "    <tr>\n",
       "      <th>115</th>\n",
       "      <td>infinix</td>\n",
       "      <td>hot 10 lite.</td>\n",
       "      <td>113</td>\n",
       "      <td>7975.00</td>\n",
       "    </tr>\n",
       "    <tr>\n",
       "      <th>116</th>\n",
       "      <td>huawei</td>\n",
       "      <td>p smart 2021</td>\n",
       "      <td>107</td>\n",
       "      <td>17066.67</td>\n",
       "    </tr>\n",
       "    <tr>\n",
       "      <th>117</th>\n",
       "      <td>oppo</td>\n",
       "      <td>reno 5 lite</td>\n",
       "      <td>107</td>\n",
       "      <td>23856.00</td>\n",
       "    </tr>\n",
       "    <tr>\n",
       "      <th>118</th>\n",
       "      <td>nokia</td>\n",
       "      <td>c20</td>\n",
       "      <td>102</td>\n",
       "      <td>7419.00</td>\n",
       "    </tr>\n",
       "    <tr>\n",
       "      <th>119</th>\n",
       "      <td>google</td>\n",
       "      <td>pixel-2xl</td>\n",
       "      <td>101</td>\n",
       "      <td>19090.00</td>\n",
       "    </tr>\n",
       "  </tbody>\n",
       "</table>\n",
       "<p>120 rows × 4 columns</p>\n",
       "</div>"
      ],
      "text/plain": [
       "    brand_name      model_name  total_sales  mean_price\n",
       "0      samsung      galaxy a12        16395    12792.72\n",
       "1       xiaomi        redmi 9a        14475     8367.68\n",
       "2       xiaomi  redmi note 10s         8037    19134.91\n",
       "3         vivo             y31         5516    14859.06\n",
       "4         vivo  y53s helio g80         4761    20023.75\n",
       "..         ...             ...          ...         ...\n",
       "115    infinix    hot 10 lite.          113     7975.00\n",
       "116     huawei    p smart 2021          107    17066.67\n",
       "117       oppo     reno 5 lite          107    23856.00\n",
       "118      nokia             c20          102     7419.00\n",
       "119     google       pixel-2xl          101    19090.00\n",
       "\n",
       "[120 rows x 4 columns]"
      ]
     },
     "execution_count": 19,
     "metadata": {},
     "output_type": "execute_result"
    }
   ],
   "source": [
    "top150_by_sales = full_df.groupby(['brand_name', 'model_name'], as_index = False) \\\n",
    "    .agg({'total_sales': 'sum', 'mean_price': 'mean'}) \\\n",
    "    .sort_values('total_sales', ascending = False) \\\n",
    "    .query ('total_sales > 100') \\\n",
    "    .head(150).reset_index() \\\n",
    "    .drop(['index'], axis=1) \\\n",
    "    .round(2)\n",
    "top150_by_sales.to_excel(\"top150_by_sales.xlsx\") \n",
    "top150_by_sales"
   ]
  },
  {
   "cell_type": "markdown",
   "id": "b1a09700",
   "metadata": {},
   "source": [
    "При экспорте с сайта shopstat.ru нельзя выбрать экспорт продаж в зависимости от даты. \n",
    "\n",
    "Я просмотрел эти данные на самом сайте и увидел аномалии - продажи распределяются неравномерно, а скачкообразно (например, 15-17 января нет продаж, 18 - много, 19 - опять нет). Также странно, что на некоторых телефонах много продаж, но нет отзывов. Поэтому, для того что проверить гипотезы и посмотреть популярность модели, попробуем еще использовать **сортировку по количеству отзывов:**"
   ]
  },
  {
   "cell_type": "code",
   "execution_count": 20,
   "id": "7892f5f0",
   "metadata": {},
   "outputs": [
    {
     "data": {
      "text/html": [
       "<div>\n",
       "<style scoped>\n",
       "    .dataframe tbody tr th:only-of-type {\n",
       "        vertical-align: middle;\n",
       "    }\n",
       "\n",
       "    .dataframe tbody tr th {\n",
       "        vertical-align: top;\n",
       "    }\n",
       "\n",
       "    .dataframe thead th {\n",
       "        text-align: right;\n",
       "    }\n",
       "</style>\n",
       "<table border=\"1\" class=\"dataframe\">\n",
       "  <thead>\n",
       "    <tr style=\"text-align: right;\">\n",
       "      <th></th>\n",
       "      <th>brand_name</th>\n",
       "      <th>model_name</th>\n",
       "      <th>total_sales</th>\n",
       "      <th>comments</th>\n",
       "      <th>mean_price</th>\n",
       "    </tr>\n",
       "  </thead>\n",
       "  <tbody>\n",
       "    <tr>\n",
       "      <th>0</th>\n",
       "      <td>samsung</td>\n",
       "      <td>galaxy a12</td>\n",
       "      <td>16395</td>\n",
       "      <td>80602</td>\n",
       "      <td>12792.72</td>\n",
       "    </tr>\n",
       "    <tr>\n",
       "      <th>1</th>\n",
       "      <td>poco</td>\n",
       "      <td>x3 pro</td>\n",
       "      <td>1848</td>\n",
       "      <td>23368</td>\n",
       "      <td>21919.55</td>\n",
       "    </tr>\n",
       "    <tr>\n",
       "      <th>2</th>\n",
       "      <td>apple</td>\n",
       "      <td>iphone 11</td>\n",
       "      <td>1325</td>\n",
       "      <td>20495</td>\n",
       "      <td>52623.54</td>\n",
       "    </tr>\n",
       "    <tr>\n",
       "      <th>3</th>\n",
       "      <td>apple</td>\n",
       "      <td>iphone 12</td>\n",
       "      <td>855</td>\n",
       "      <td>17495</td>\n",
       "      <td>69781.77</td>\n",
       "    </tr>\n",
       "    <tr>\n",
       "      <th>4</th>\n",
       "      <td>xiaomi</td>\n",
       "      <td>redmi 9a</td>\n",
       "      <td>14475</td>\n",
       "      <td>11812</td>\n",
       "      <td>8367.68</td>\n",
       "    </tr>\n",
       "    <tr>\n",
       "      <th>...</th>\n",
       "      <td>...</td>\n",
       "      <td>...</td>\n",
       "      <td>...</td>\n",
       "      <td>...</td>\n",
       "      <td>...</td>\n",
       "    </tr>\n",
       "    <tr>\n",
       "      <th>115</th>\n",
       "      <td>blackview</td>\n",
       "      <td>bv6300</td>\n",
       "      <td>1290</td>\n",
       "      <td>2</td>\n",
       "      <td>12218.00</td>\n",
       "    </tr>\n",
       "    <tr>\n",
       "      <th>116</th>\n",
       "      <td>alcatel</td>\n",
       "      <td>1</td>\n",
       "      <td>291</td>\n",
       "      <td>2</td>\n",
       "      <td>5012.50</td>\n",
       "    </tr>\n",
       "    <tr>\n",
       "      <th>117</th>\n",
       "      <td>bq</td>\n",
       "      <td>6630</td>\n",
       "      <td>146</td>\n",
       "      <td>2</td>\n",
       "      <td>8439.50</td>\n",
       "    </tr>\n",
       "    <tr>\n",
       "      <th>118</th>\n",
       "      <td>bq</td>\n",
       "      <td>5047l</td>\n",
       "      <td>130</td>\n",
       "      <td>2</td>\n",
       "      <td>4337.00</td>\n",
       "    </tr>\n",
       "    <tr>\n",
       "      <th>119</th>\n",
       "      <td>blackview</td>\n",
       "      <td>bv4900</td>\n",
       "      <td>259</td>\n",
       "      <td>1</td>\n",
       "      <td>12384.00</td>\n",
       "    </tr>\n",
       "  </tbody>\n",
       "</table>\n",
       "<p>120 rows × 5 columns</p>\n",
       "</div>"
      ],
      "text/plain": [
       "    brand_name  model_name  total_sales  comments  mean_price\n",
       "0      samsung  galaxy a12        16395     80602    12792.72\n",
       "1         poco      x3 pro         1848     23368    21919.55\n",
       "2        apple   iphone 11         1325     20495    52623.54\n",
       "3        apple   iphone 12          855     17495    69781.77\n",
       "4       xiaomi    redmi 9a        14475     11812     8367.68\n",
       "..         ...         ...          ...       ...         ...\n",
       "115  blackview      bv6300         1290         2    12218.00\n",
       "116    alcatel           1          291         2     5012.50\n",
       "117         bq        6630          146         2     8439.50\n",
       "118         bq       5047l          130         2     4337.00\n",
       "119  blackview      bv4900          259         1    12384.00\n",
       "\n",
       "[120 rows x 5 columns]"
      ]
     },
     "execution_count": 20,
     "metadata": {},
     "output_type": "execute_result"
    }
   ],
   "source": [
    "top150_by_comments = full_df.groupby(['brand_name', 'model_name'], as_index = False) \\\n",
    "    .agg({'total_sales': 'sum', 'comments': 'sum', 'mean_price': 'mean'}) \\\n",
    "    .sort_values('comments', ascending = False) \\\n",
    "    .query ('total_sales > 100') \\\n",
    "    .query ('comments > 0').reset_index() \\\n",
    "    .drop(['index'], axis=1) \\\n",
    "    .round(2)\n",
    "top150_by_comments.to_excel(\"top150_by_comments.xlsx\")\n",
    "top150_by_comments"
   ]
  }
 ],
 "metadata": {
  "kernelspec": {
   "display_name": "Python 3 (ipykernel)",
   "language": "python",
   "name": "python3"
  },
  "language_info": {
   "codemirror_mode": {
    "name": "ipython",
    "version": 3
   },
   "file_extension": ".py",
   "mimetype": "text/x-python",
   "name": "python",
   "nbconvert_exporter": "python",
   "pygments_lexer": "ipython3",
   "version": "3.9.6"
  }
 },
 "nbformat": 4,
 "nbformat_minor": 5
}
